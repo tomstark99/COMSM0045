{
 "cells": [
  {
   "cell_type": "code",
   "execution_count": 5,
   "id": "163b6cd9",
   "metadata": {},
   "outputs": [],
   "source": [
    "import torch\n",
    "import torch.nn as nn\n",
    "import torch.nn.functional as F\n",
    "import os\n",
    "from torch.utils.data import DataLoader\n",
    "from dataset import DCASE"
   ]
  },
  {
   "cell_type": "code",
   "execution_count": 6,
   "id": "42d56a66",
   "metadata": {},
   "outputs": [],
   "source": [
    "root_dir = os.getcwd() + '/ADL_DCASE_DATA/development'\n",
    "dataset = DCASE(root_dir, 3)"
   ]
  },
  {
   "cell_type": "code",
   "execution_count": 7,
   "id": "62402f06",
   "metadata": {},
   "outputs": [],
   "source": [
    "loader = DataLoader(dataset, batch_size=1, shuffle=True)"
   ]
  },
  {
   "cell_type": "code",
   "execution_count": 8,
   "id": "3ebdda4e",
   "metadata": {},
   "outputs": [],
   "source": [
    "iterator = iter(loader)\n",
    "\n",
    "data, label = iterator.next()"
   ]
  },
  {
   "cell_type": "code",
   "execution_count": 9,
   "id": "93adab07",
   "metadata": {},
   "outputs": [
    {
     "ename": "SyntaxError",
     "evalue": "unexpected EOF while parsing (<ipython-input-9-e617f9de46d9>, line 25)",
     "output_type": "error",
     "traceback": [
      "\u001b[0;36m  File \u001b[0;32m\"<ipython-input-9-e617f9de46d9>\"\u001b[0;36m, line \u001b[0;32m25\u001b[0m\n\u001b[0;31m    \u001b[0m\n\u001b[0m    ^\u001b[0m\n\u001b[0;31mSyntaxError\u001b[0m\u001b[0;31m:\u001b[0m unexpected EOF while parsing\n"
     ]
    }
   ],
   "source": [
    "class CNN(nn.Module):\n",
    "    \n",
    "    def __init__(self):\n",
    "        super().__init__()\n",
    "        self.conv1 = nn.Conv2d(\n",
    "            in_channels=1,\n",
    "            out_channels=128,\n",
    "            kernel_size=5\n",
    "        )\n",
    "        self.batch1 = nn.BatchNorm2d(128)\n",
    "        self.conv2 = nn.Conv2d(\n",
    "            in_channels=128,\n",
    "            out_channels=256,\n",
    "            kernel_size=5\n",
    "        )\n",
    "        self.batch2 = nn.BatchNorm2d(128)\n",
    "        self.pool1 = nn.MaxPool2d(\n",
    "            kernel_size=5\n",
    "            stride=5\n",
    "        )\n",
    "        self.pool2 = nn.AdaptiveMaxPool2d((4, None))\n",
    "        self.fc1 = nn.Linear(4096, 15)\n",
    "        \n",
    "        self.initialise_layer(self.conv1)\n",
    "        self.initialise_layer(self.conv2)\n",
    "        \n",
    "    def forward(x):\n",
    "        \n",
    "        \n",
    "    @staticmethod\n",
    "    def initialise_layer(layer):\n",
    "        if hasattr(layer, \"bias\"):\n",
    "            nn.init.zeros_(layer.bias)\n",
    "        if hasattr(layer, \"weight\"):\n",
    "            nn.init.kaiming_normal_(layer.weight)\n",
    "        "
   ]
  },
  {
   "cell_type": "code",
   "execution_count": 11,
   "id": "cbf73ca2",
   "metadata": {},
   "outputs": [
    {
     "data": {
      "text/plain": [
       "(torch.Size([1, 10, 60, 150]), tensor([8]))"
      ]
     },
     "execution_count": 11,
     "metadata": {},
     "output_type": "execute_result"
    }
   ],
   "source": [
    "data.shape, label"
   ]
  },
  {
   "cell_type": "code",
   "execution_count": 47,
   "id": "59253b0e",
   "metadata": {},
   "outputs": [],
   "source": [
    "conv1 = nn.Conv2d(\n",
    "    in_channels=1,\n",
    "    out_channels=128,\n",
    "    kernel_size=5\n",
    ")\n",
    "batch1 = nn.BatchNorm2d(128)\n",
    "conv2 = nn.Conv2d(\n",
    "    in_channels=128,\n",
    "    out_channels=256,\n",
    "    kernel_size=5\n",
    ")\n",
    "batch2 = nn.BatchNorm2d(256)\n",
    "pool1 = nn.MaxPool2d(\n",
    "    kernel_size=5,\n",
    "    stride=5\n",
    ")\n",
    "pool2 = nn.AdaptiveMaxPool2d((4, None))\n",
    "fc1 = nn.Linear(4096, 15)"
   ]
  },
  {
   "cell_type": "code",
   "execution_count": 38,
   "id": "8e8111d0",
   "metadata": {},
   "outputs": [],
   "source": [
    "x = data.view((-1, 1, data.shape[2], data.shape[3]))"
   ]
  },
  {
   "cell_type": "code",
   "execution_count": 42,
   "id": "03119d66",
   "metadata": {},
   "outputs": [
    {
     "data": {
      "text/plain": [
       "(torch.Size([10, 128, 56, 146]), torch.Size([10, 1, 60, 150]))"
      ]
     },
     "execution_count": 42,
     "metadata": {},
     "output_type": "execute_result"
    }
   ],
   "source": [
    "x1 = conv1(x)\n",
    "x1.shape, x.shape"
   ]
  },
  {
   "cell_type": "code",
   "execution_count": 43,
   "id": "66926e91",
   "metadata": {},
   "outputs": [
    {
     "data": {
      "text/plain": [
       "(torch.Size([10, 128, 56, 146]), torch.Size([10, 128, 56, 146]))"
      ]
     },
     "execution_count": 43,
     "metadata": {},
     "output_type": "execute_result"
    }
   ],
   "source": [
    "x2 = batch1(x1)\n",
    "x2.shape, x1.shape"
   ]
  },
  {
   "cell_type": "code",
   "execution_count": 44,
   "id": "422ccd0b",
   "metadata": {},
   "outputs": [
    {
     "data": {
      "text/plain": [
       "(torch.Size([10, 128, 11, 29]), torch.Size([10, 128, 56, 146]))"
      ]
     },
     "execution_count": 44,
     "metadata": {},
     "output_type": "execute_result"
    }
   ],
   "source": [
    "x3 = pool1(F.relu(x2))\n",
    "x3.shape, x2.shape"
   ]
  },
  {
   "cell_type": "code",
   "execution_count": 45,
   "id": "813dad23",
   "metadata": {},
   "outputs": [
    {
     "data": {
      "text/plain": [
       "(torch.Size([10, 256, 7, 25]), torch.Size([10, 128, 11, 29]))"
      ]
     },
     "execution_count": 45,
     "metadata": {},
     "output_type": "execute_result"
    }
   ],
   "source": [
    "x4 = conv2(x3)\n",
    "x4.shape, x3.shape"
   ]
  },
  {
   "cell_type": "code",
   "execution_count": 49,
   "id": "d0663fd3",
   "metadata": {},
   "outputs": [
    {
     "data": {
      "text/plain": [
       "(torch.Size([10, 256, 7, 25]), torch.Size([10, 256, 7, 25]))"
      ]
     },
     "execution_count": 49,
     "metadata": {},
     "output_type": "execute_result"
    }
   ],
   "source": [
    "x5 = batch2(x4)\n",
    "x5.shape, x4.shape"
   ]
  },
  {
   "cell_type": "code",
   "execution_count": 50,
   "id": "3cd1f200",
   "metadata": {},
   "outputs": [
    {
     "data": {
      "text/plain": [
       "(torch.Size([10, 256, 4, 25]), torch.Size([10, 256, 7, 25]))"
      ]
     },
     "execution_count": 50,
     "metadata": {},
     "output_type": "execute_result"
    }
   ],
   "source": [
    "x6 = pool2(x5)\n",
    "x6.shape, x5.shape"
   ]
  },
  {
   "cell_type": "code",
   "execution_count": 51,
   "id": "ee2d1bc4",
   "metadata": {},
   "outputs": [
    {
     "data": {
      "text/plain": [
       "(torch.Size([10, 25600]), torch.Size([10, 256, 4, 25]))"
      ]
     },
     "execution_count": 51,
     "metadata": {},
     "output_type": "execute_result"
    }
   ],
   "source": [
    "x7 = torch.flatten(x6, 1)\n",
    "x7.shape, x6.shape"
   ]
  },
  {
   "cell_type": "code",
   "execution_count": null,
   "id": "a91a7373",
   "metadata": {},
   "outputs": [],
   "source": []
  }
 ],
 "metadata": {
  "kernelspec": {
   "display_name": "Python 3",
   "language": "python",
   "name": "python3"
  }
 },
 "nbformat": 4,
 "nbformat_minor": 5
}
