{
 "cells": [
  {
   "cell_type": "code",
   "execution_count": 1,
   "metadata": {},
   "outputs": [],
   "source": [
    "import seaborn as sn\n",
    "from trainer import Trainer\n",
    "from dataset import DCASE\n",
    "from CNN import CNN\n",
    "import torch\n",
    "from torch.utils.data import DataLoader\n",
    "from path import Path\n",
    "import numpy as np"
   ]
  },
  {
   "cell_type": "code",
   "execution_count": 3,
   "metadata": {},
   "outputs": [
    {
     "data": {
      "text/plain": [
       "<All keys matched successfully>"
      ]
     },
     "execution_count": 3,
     "metadata": {},
     "output_type": "execute_result"
    }
   ],
   "source": [
    "dataset = DCASE(Path('./ADL_DCASE_DATA/evaluation'), 3)\n",
    "loader = DataLoader(dataset, shuffle=False, batch_size=1)\n",
    "model = CNN(3, dataset.get_num_clips())\n",
    "\n",
    "model.load_state_dict(torch.load('./sick_run.pth', map_location=torch.device('cpu')))\n",
    "# trainer = Trainer(model, None, loader, torch.nn.CrossEntropyLoss(), torch.optim.Adam(model.parameters(), lr=1e-2), None, torch.device('cpu'))"
   ]
  },
  {
   "cell_type": "code",
   "execution_count": 12,
   "metadata": {},
   "outputs": [],
   "source": [
    "def print_per_class_accuracy():\n",
    "        classes = {0: 'beach',\n",
    "                   1: 'bus',\n",
    "                   2: 'cafe/restaurant',\n",
    "                   3: 'car',\n",
    "                   4: 'city_center',\n",
    "                   5: 'forest_path',\n",
    "                   6: 'grocery_store',\n",
    "                   7: 'home',\n",
    "                   8: 'library',\n",
    "                   9: 'metro_station',\n",
    "                  10: 'office',\n",
    "                  11: 'park',\n",
    "                  12: 'residential_area',\n",
    "                  13: 'train',\n",
    "                  14: 'tram'}\n",
    "\n",
    "        correct_pred = {classname: 0 for classname in classes.keys()}\n",
    "        incorrect_pred = {classname: {class_n: 0 for class_n in classes.keys()} for classname in classes.keys()}\n",
    "        total_pred = {classname: 0 for classname in classes.keys()}\n",
    "\n",
    "        model.eval()\n",
    "        with torch.no_grad():\n",
    "            \n",
    "            validation_results = {\n",
    "                'loss': [],\n",
    "                'accuracy': [],\n",
    "                'preds': [],\n",
    "                'labels': []\n",
    "            }\n",
    "            \n",
    "            for batch, labels in loader:\n",
    "                \n",
    "                logits = model(batch.to(torch.device('cpu')))\n",
    "                preds = logits.argmax(-1).cpu().numpy()\n",
    "\n",
    "                for label, pred in zip(labels.cpu().numpy(), preds):\n",
    "                    if label == pred:\n",
    "                        correct_pred[label] += 1\n",
    "                    incorrect_pred[label][pred] += 1\n",
    "                    total_pred[label] += 1\n",
    "                    \n",
    "                validation_results['preds'].extend(list(preds))\n",
    "                validation_results['labels'].extend(list(labels.numpy()))\n",
    "                \n",
    "        validation_results['accuracy'] = compute_accuracy(\n",
    "            np.array(validation_results[\"labels\"]), \n",
    "            np.array(validation_results[\"preds\"])\n",
    "        )\n",
    "        \n",
    "        \n",
    "        print(validation_results['accuracy'])\n",
    "                \n",
    "        \n",
    "        for classname, correct in correct_pred.items():\n",
    "            accuracy = 100 * float(correct) / total_pred[classname]\n",
    "            print(\"Accuracy for class {:5s} is: {:.1f}%\".format(classes[classname], accuracy))\n",
    "            \n",
    "        return incorrect_pred\n",
    "    \n",
    "def compute_accuracy(\n",
    "        preds,\n",
    "        labels\n",
    "    ) -> float:\n",
    "        return float((labels == preds).sum()) / len(labels)"
   ]
  },
  {
   "cell_type": "code",
   "execution_count": 13,
   "metadata": {},
   "outputs": [
    {
     "name": "stdout",
     "output_type": "stream",
     "text": [
      "0.7025641025641025\n",
      "Accuracy for class beach is: 53.8%\n",
      "Accuracy for class bus   is: 80.8%\n",
      "Accuracy for class cafe/restaurant is: 26.9%\n",
      "Accuracy for class car   is: 100.0%\n",
      "Accuracy for class city_center is: 96.2%\n",
      "Accuracy for class forest_path is: 92.3%\n",
      "Accuracy for class grocery_store is: 92.3%\n",
      "Accuracy for class home  is: 100.0%\n",
      "Accuracy for class library is: 7.7%\n",
      "Accuracy for class metro_station is: 38.5%\n",
      "Accuracy for class office is: 96.2%\n",
      "Accuracy for class park  is: 76.9%\n",
      "Accuracy for class residential_area is: 73.1%\n",
      "Accuracy for class train is: 38.5%\n",
      "Accuracy for class tram  is: 80.8%\n"
     ]
    }
   ],
   "source": [
    "out = print_per_class_accuracy()"
   ]
  },
  {
   "cell_type": "code",
   "execution_count": 14,
   "metadata": {},
   "outputs": [],
   "source": [
    "classes = {0: 'beach',\n",
    "                   1: 'bus',\n",
    "                   2: 'cafe/restaurant',\n",
    "                   3: 'car',\n",
    "                   4: 'city_center',\n",
    "                   5: 'forest_path',\n",
    "                   6: 'grocery_store',\n",
    "                   7: 'home',\n",
    "                   8: 'library',\n",
    "                   9: 'metro_station',\n",
    "                  10: 'office',\n",
    "                  11: 'park',\n",
    "                  12: 'residential_area',\n",
    "                  13: 'train',\n",
    "                  14: 'tram'}\n",
    "\n",
    "class_list = list(classes.values())\n",
    "\n",
    "lol = np.array([[x for x in y.values()] for y in out.values()])"
   ]
  },
  {
   "cell_type": "code",
   "execution_count": 15,
   "metadata": {},
   "outputs": [
    {
     "data": {
      "text/plain": [
       "array([[14,  0,  0,  0,  0,  1,  0,  8,  1,  0,  0,  0,  2,  0,  0],\n",
       "       [ 0, 21,  0,  0,  0,  0,  2,  1,  0,  0,  0,  0,  0,  0,  2],\n",
       "       [ 0,  0,  7,  0,  0,  0, 15,  2,  0,  0,  2,  0,  0,  0,  0],\n",
       "       [ 0,  0,  0, 26,  0,  0,  0,  0,  0,  0,  0,  0,  0,  0,  0],\n",
       "       [ 0,  0,  0,  0, 25,  0,  0,  0,  0,  0,  0,  1,  0,  0,  0],\n",
       "       [ 0,  0,  0,  0,  0, 24,  1,  0,  0,  0,  0,  0,  1,  0,  0],\n",
       "       [ 0,  0,  0,  0,  0,  0, 24,  2,  0,  0,  0,  0,  0,  0,  0],\n",
       "       [ 0,  0,  0,  0,  0,  0,  0, 26,  0,  0,  0,  0,  0,  0,  0],\n",
       "       [ 4,  2,  1,  0,  0,  0,  5, 10,  2,  0,  2,  0,  0,  0,  0],\n",
       "       [ 0,  0,  0,  0,  0,  0, 16,  0,  0, 10,  0,  0,  0,  0,  0],\n",
       "       [ 0,  0,  0,  0,  0,  0,  0,  1,  0,  0, 25,  0,  0,  0,  0],\n",
       "       [ 0,  0,  4,  0,  0,  0,  0,  0,  0,  0,  0, 20,  2,  0,  0],\n",
       "       [ 0,  0,  0,  0,  0,  0,  0,  1,  0,  0,  1,  5, 19,  0,  0],\n",
       "       [ 0,  0,  4,  0,  0,  0,  1,  9,  2,  0,  0,  0,  0, 10,  0],\n",
       "       [ 0,  0,  0,  0,  0,  0,  0,  3,  0,  0,  0,  0,  0,  2, 21]])"
      ]
     },
     "execution_count": 15,
     "metadata": {},
     "output_type": "execute_result"
    }
   ],
   "source": [
    "lol"
   ]
  },
  {
   "cell_type": "code",
   "execution_count": 16,
   "metadata": {},
   "outputs": [
    {
     "data": {
      "text/plain": [
       "<matplotlib.axes._subplots.AxesSubplot at 0x2b5e5cbfdf28>"
      ]
     },
     "execution_count": 16,
     "metadata": {},
     "output_type": "execute_result"
    },
    {
     "data": {
      "image/png": "[encoded data removed]",
      "text/plain": [
       "<Figure size 720x504 with 2 Axes>"
      ]
     },
     "metadata": {
      "needs_background": "light"
     },
     "output_type": "display_data"
    }
   ],
   "source": [
    "import pandas as pd\n",
    "import matplotlib.pyplot as plt\n",
    "\n",
    "df_cm = pd.DataFrame(lol, index = [i for i in class_list],\n",
    "                  columns = [i for i in class_list])\n",
    "plt.figure(figsize = (10,7))\n",
    "sn.heatmap(df_cm, annot=True, cmap=\"YlGnBu\")"
   ]
  },
  {
   "cell_type": "code",
   "execution_count": null,
   "metadata": {},
   "outputs": [],
   "source": []
  }
 ],
 "metadata": {
  "kernelspec": {
   "display_name": "Python 3",
   "language": "python",
   "name": "python3"
  },
  "language_info": {
   "codemirror_mode": {
    "name": "ipython",
    "version": 3
   },
   "file_extension": ".py",
   "mimetype": "text/x-python",
   "name": "python",
   "nbconvert_exporter": "python",
   "pygments_lexer": "ipython3",
   "version": "3.7.3"
  }
 },
 "nbformat": 4,
 "nbformat_minor": 2
}
